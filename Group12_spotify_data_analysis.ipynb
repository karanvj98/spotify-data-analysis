{
  "cells": [
    {
      "cell_type": "code",
      "execution_count": null,
      "metadata": {},
      "outputs": [],
      "source": [
        "# Keerthi\n",
        "# This cell creates the dataset from the Spotify Web API. It will take all of the songs in the playlists of the dataset and create a dictionary of the form {(track_id, playlist_id): [array of features]}\n",
        "def create_dataset():\n",
        "    return None"
      ]
    },
    {
      "cell_type": "code",
      "execution_count": null,
      "metadata": {},
      "outputs": [],
      "source": [
        "# Keerthi\n",
        "# Data Frame with the above information \n",
        "def create_dataframe():\n",
        "    return None"
      ]
    },
    {
      "cell_type": "code",
      "execution_count": null,
      "metadata": {},
      "outputs": [],
      "source": [
        "# Keerthi\n",
        "# General data analysis \n",
        "# Find the max/min/average amount of songs in the playlist, max/min/average number of artists per playlist, max/min/average duration for a playlist\n",
        "def anaylze_data():\n",
        "    return None "
      ]
    },
    {
      "cell_type": "code",
      "execution_count": null,
      "metadata": {},
      "outputs": [],
      "source": [
        "# Across playlists, which features determine songs that match together in a playlist? - calculate_std_dev() and generate_heatmap()\n",
        "# Which features determine the mood of a playlist? \n",
        "# Which features correlate together the most within a playlist?\n",
        "# What are the most important features/values for playlists with a high median popularity value? For playlists with only 1 artist, which features are most important to get a high popularity value? "
      ]
    },
    {
      "cell_type": "code",
      "execution_count": null,
      "metadata": {},
      "outputs": [],
      "source": [
        "# Megna \n",
        "def calculate_std_dev():\n",
        "    '''This method calculates the standad deviations of each of the features for each playlist and then averages the standard deviations across all playlists.'''\n",
        "    return None"
      ]
    },
    {
      "cell_type": "code",
      "execution_count": null,
      "metadata": {
        "id": "8hIX5KjtLfbM"
      },
      "outputs": [],
      "source": [
        "# Rakshitha \n",
        "def generate_heatmap_all_features(): \n",
        "    '''This is the method that will be used to generate the heatmap comparing the relevancy of all of the features.'''\n",
        "    # Pick 3 playlists with the most songs and create the heat map \n",
        "    return None"
      ]
    },
    {
      "cell_type": "code",
      "execution_count": null,
      "metadata": {},
      "outputs": [],
      "source": [
        "# Megna, Chuqiao \n",
        "def sentiment_analysis():\n",
        "    '''This method determines which features and what values for those features determine the mood of a playlist.'''\n",
        "    # Find 2 playlists that match each of the following moods: \n",
        "    # Megna: happy, sad, mad \n",
        "    # Person 4: chill/slow music, romantic, holiday, workout, party \n",
        "    # Find the features that are most correlated/important within each of these moods \n",
        "    return None"
      ]
    },
    {
      "cell_type": "code",
      "execution_count": null,
      "metadata": {},
      "outputs": [],
      "source": [
        "# Rakshitha\n",
        "def correlate_features(feature1, feature2):\n",
        "    # Try to think of a way to account for all of the playlists when correlating two features \n",
        "    # Plot some pairwise correlation graphs that visually shows the correlation between the 2 features \n",
        "    return None "
      ]
    },
    {
      "cell_type": "code",
      "execution_count": null,
      "metadata": {},
      "outputs": [],
      "source": [
        "# Karan\n",
        "def best_features_for_popularity():\n",
        "    '''This method takes the 3 playlists with the highest median popularity and finds which features are most correlated with popularity'''\n",
        "    # Generate a heatmap with popularity vs. all features after finding the 3 playlists with the highest median popularity\n",
        "    return None "
      ]
    },
    {
      "cell_type": "code",
      "execution_count": null,
      "metadata": {},
      "outputs": [],
      "source": [
        "# Karan\n",
        "def popularity_per_artist():\n",
        "    '''Find the playlists with only 1 artist and find the 3 with the most songs. Generate a heatmap comparing popularity vs. all features for these 3 playlists.'''\n",
        "    return None "
      ]
    }
  ],
  "metadata": {
    "colab": {
      "provenance": []
    },
    "kernelspec": {
      "display_name": "Python 3",
      "name": "python3"
    },
    "language_info": {
      "name": "python"
    }
  },
  "nbformat": 4,
  "nbformat_minor": 0
}
