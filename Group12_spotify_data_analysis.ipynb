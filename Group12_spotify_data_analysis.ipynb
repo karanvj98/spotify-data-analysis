{
  "cells": [
    {
      "cell_type": "code",
      "execution_count": 1,
      "metadata": {},
      "outputs": [],
      "source": [
        "import pandas as pd"
      ]
    },
    {
      "cell_type": "code",
      "execution_count": null,
      "metadata": {},
      "outputs": [],
      "source": [
        "# Keerthi\n",
        "# This cell creates the dataset from the Spotify Web API. It will take all of the songs in the playlists of the dataset and create a dictionary of the form {(track_id, playlist_id): [array of features]}\n",
        "def create_dataset():\n",
        "    pd.read_csv"
      ]
    },
    {
      "cell_type": "code",
      "execution_count": 3,
      "metadata": {},
      "outputs": [],
      "source": [
        "# Keerthi\n",
        "# Data Frame with the above information \n",
        "def create_dataframe():\n",
        "    df = pd.read_csv(merged_playlist_without_duplicates_0_999.csv)"
      ]
    },
    {
      "cell_type": "code",
      "execution_count": null,
      "metadata": {},
      "outputs": [],
      "source": [
        "# Keerthi\n",
        "# General data analysis \n",
        "# Find the max/min/average amount of songs in the playlist, max/min/average number of artists per playlist, max/min/average duration for a playlist\n",
        "def anaylze_data():\n",
        "    return None "
      ]
    },
    {
      "cell_type": "code",
      "execution_count": null,
      "metadata": {},
      "outputs": [],
      "source": [
        "# Across playlists, which features determine songs that match together in a playlist? - calculate_std_dev() and generate_heatmap()\n",
        "# Which features determine the mood of a playlist? \n",
        "# Which features correlate together the most within a playlist?\n",
        "# What are the most important features/values for playlists with a high median popularity value? For playlists with only 1 artist, which features are most important to get a high popularity value? "
      ]
    },
    {
      "cell_type": "code",
      "execution_count": 10,
      "metadata": {},
      "outputs": [
        {
          "ename": "ModuleNotFoundError",
          "evalue": "No module named 'seaborn'",
          "output_type": "error",
          "traceback": [
            "\u001b[0;31m---------------------------------------------------------------------------\u001b[0m",
            "\u001b[0;31mModuleNotFoundError\u001b[0m                       Traceback (most recent call last)",
            "\u001b[0;32m/var/folders/79/n84ygn013tgbkhnjp5pfzxgr0000gn/T/ipykernel_55377/2767064504.py\u001b[0m in \u001b[0;36m<module>\u001b[0;34m\u001b[0m\n\u001b[1;32m      2\u001b[0m \u001b[0;32mimport\u001b[0m \u001b[0mpandas\u001b[0m \u001b[0;32mas\u001b[0m \u001b[0mpd\u001b[0m\u001b[0;34m\u001b[0m\u001b[0;34m\u001b[0m\u001b[0m\n\u001b[1;32m      3\u001b[0m \u001b[0;32mimport\u001b[0m \u001b[0mnumpy\u001b[0m \u001b[0;32mas\u001b[0m \u001b[0mnp\u001b[0m\u001b[0;34m\u001b[0m\u001b[0;34m\u001b[0m\u001b[0m\n\u001b[0;32m----> 4\u001b[0;31m \u001b[0;32mimport\u001b[0m \u001b[0mseaborn\u001b[0m \u001b[0;32mas\u001b[0m \u001b[0msns\u001b[0m\u001b[0;34m\u001b[0m\u001b[0;34m\u001b[0m\u001b[0m\n\u001b[0m\u001b[1;32m      5\u001b[0m \u001b[0;32mimport\u001b[0m \u001b[0mmatplotlib\u001b[0m\u001b[0;34m.\u001b[0m\u001b[0mpyplot\u001b[0m \u001b[0;32mas\u001b[0m \u001b[0mplt\u001b[0m\u001b[0;34m\u001b[0m\u001b[0;34m\u001b[0m\u001b[0m\n\u001b[1;32m      6\u001b[0m \u001b[0;34m\u001b[0m\u001b[0m\n",
            "\u001b[0;31mModuleNotFoundError\u001b[0m: No module named 'seaborn'"
          ]
        }
      ],
      "source": [
        "# List of features to analyze\n",
        "import pandas as pd \n",
        "import numpy as np\n",
        "import seaborn as sns\n",
        "import matplotlib.pyplot as plt\n",
        "\n",
        "df = pd.read_csv('merged_playlist_without_duplicates_0_999.csv')\n",
        "\n",
        "# List of features to analyze\n",
        "features = ['POPULARITY', 'DANCEABILITY', 'ACOUSTICNESS', 'ENERGY', 'INSTRUMENTALNESS',\n",
        "            'VALENCE', 'TEMPO', 'LIVENESS', 'LOUDNESS', 'MODE', 'KEY', 'SPEECHINESS']\n",
        "\n",
        "df['INSTRUMENTALNESS'] += 1\n",
        "df['INSTRUMENTALNESS'] = np.log(df['INSTRUMENTALNESS'])\n",
        "\n",
        "# Calculate the mean for each playlist and feature\n",
        "playlist_means = df.groupby('PLAYLIST_id')[features].mean()\n",
        "\n",
        "# Calculate the standard deviation for each playlist and feature\n",
        "playlist_std_devs = df.groupby('PLAYLIST_id')[features].std()\n",
        "\n",
        "# Calculate the Coefficient of Variation for each playlist and feature\n",
        "playlist_cv = playlist_std_devs / playlist_means\n",
        "\n",
        "# Calculate the mean Coefficient of Variation for each feature across all playlists\n",
        "mean_cv_across_playlists = playlist_cv.mean()\n",
        "\n",
        "print(\"Coefficient of Variation for Each Feature Across All Playlists:\")\n",
        "print(mean_cv_across_playlists.abs().sort_values(ascending=True))"
      ]
    },
    {
      "cell_type": "markdown",
      "metadata": {},
      "source": []
    },
    {
      "cell_type": "code",
      "execution_count": 11,
      "metadata": {},
      "outputs": [
        {
          "ename": "NameError",
          "evalue": "name 'plt' is not defined",
          "output_type": "error",
          "traceback": [
            "\u001b[0;31m---------------------------------------------------------------------------\u001b[0m",
            "\u001b[0;31mNameError\u001b[0m                                 Traceback (most recent call last)",
            "\u001b[0;32m/var/folders/79/n84ygn013tgbkhnjp5pfzxgr0000gn/T/ipykernel_55377/1796802076.py\u001b[0m in \u001b[0;36m<module>\u001b[0;34m\u001b[0m\n\u001b[1;32m      3\u001b[0m \u001b[0mcapped_playlist_cv\u001b[0m \u001b[0;34m=\u001b[0m \u001b[0mplaylist_cv\u001b[0m\u001b[0;34m.\u001b[0m\u001b[0mclip\u001b[0m\u001b[0;34m(\u001b[0m\u001b[0mupper\u001b[0m\u001b[0;34m=\u001b[0m\u001b[0mcap_values\u001b[0m\u001b[0;34m,\u001b[0m \u001b[0maxis\u001b[0m\u001b[0;34m=\u001b[0m\u001b[0;36m1\u001b[0m\u001b[0;34m)\u001b[0m\u001b[0;34m\u001b[0m\u001b[0;34m\u001b[0m\u001b[0m\n\u001b[1;32m      4\u001b[0m \u001b[0;34m\u001b[0m\u001b[0m\n\u001b[0;32m----> 5\u001b[0;31m \u001b[0mplt\u001b[0m\u001b[0;34m.\u001b[0m\u001b[0mfigure\u001b[0m\u001b[0;34m(\u001b[0m\u001b[0mfigsize\u001b[0m\u001b[0;34m=\u001b[0m\u001b[0;34m(\u001b[0m\u001b[0;36m7\u001b[0m\u001b[0;34m,\u001b[0m \u001b[0;36m5\u001b[0m\u001b[0;34m)\u001b[0m\u001b[0;34m)\u001b[0m\u001b[0;34m\u001b[0m\u001b[0;34m\u001b[0m\u001b[0m\n\u001b[0m\u001b[1;32m      6\u001b[0m \u001b[0msns\u001b[0m\u001b[0;34m.\u001b[0m\u001b[0mheatmap\u001b[0m\u001b[0;34m(\u001b[0m\u001b[0mcapped_playlist_cv\u001b[0m\u001b[0;34m,\u001b[0m \u001b[0mcmap\u001b[0m\u001b[0;34m=\u001b[0m\u001b[0;34m'plasma'\u001b[0m\u001b[0;34m,\u001b[0m \u001b[0mcbar_kws\u001b[0m\u001b[0;34m=\u001b[0m\u001b[0;34m{\u001b[0m\u001b[0;34m'label'\u001b[0m\u001b[0;34m:\u001b[0m \u001b[0;34m'Coefficient of Variation'\u001b[0m\u001b[0;34m}\u001b[0m\u001b[0;34m)\u001b[0m\u001b[0;34m\u001b[0m\u001b[0;34m\u001b[0m\u001b[0m\n\u001b[1;32m      7\u001b[0m \u001b[0mplt\u001b[0m\u001b[0;34m.\u001b[0m\u001b[0mtitle\u001b[0m\u001b[0;34m(\u001b[0m\u001b[0;34m'Heatmap of Coefficient of Variation for Each Feature Across Playlists'\u001b[0m\u001b[0;34m)\u001b[0m\u001b[0;34m\u001b[0m\u001b[0;34m\u001b[0m\u001b[0m\n",
            "\u001b[0;31mNameError\u001b[0m: name 'plt' is not defined"
          ]
        }
      ],
      "source": [
        "# Cap the values at the 95th percentile for each feature\n",
        "cap_values = playlist_cv.quantile(0.95)\n",
        "capped_playlist_cv = playlist_cv.clip(upper=cap_values, axis=1)\n",
        "\n",
        "plt.figure(figsize=(7, 5))\n",
        "sns.heatmap(capped_playlist_cv, cmap='plasma', cbar_kws={'label': 'Coefficient of Variation'})\n",
        "plt.title('Heatmap of Coefficient of Variation for Each Feature Across Playlists')\n",
        "plt.xlabel('Features')\n",
        "plt.ylabel('Playlists')\n",
        "plt.show()\n"
      ]
    },
    {
      "cell_type": "code",
      "execution_count": null,
      "metadata": {
        "id": "8hIX5KjtLfbM"
      },
      "outputs": [],
      "source": [
        "# Rakshitha \n",
        "def generate_heatmap_all_features(): \n",
        "    '''This is the method that will be used to generate the heatmap comparing the relevancy of all of the features.'''\n",
        "    # Pick 3 playlists with the most songs and create the heat map \n",
        "    return None"
      ]
    },
    {
      "cell_type": "code",
      "execution_count": null,
      "metadata": {},
      "outputs": [],
      "source": [
        "# Megna, Chuqiao \n",
        "def sentiment_analysis():\n",
        "    '''This method determines which features and what values for those features determine the mood of a playlist.'''\n",
        "    # Find 2 playlists that match each of the following moods: \n",
        "    # Megna: happy, sad, mad \n",
        "    # Person 4: chill/slow music, romantic, holiday, workout, party \n",
        "    # Find the features that are most correlated/important within each of these moods \n",
        "    return None"
      ]
    },
    {
      "cell_type": "code",
      "execution_count": null,
      "metadata": {},
      "outputs": [],
      "source": [
        "# Rakshitha\n",
        "def correlate_features(feature1, feature2):\n",
        "    # Try to think of a way to account for all of the playlists when correlating two features \n",
        "    # Plot some pairwise correlation graphs that visually shows the correlation between the 2 features \n",
        "    return None "
      ]
    },
    {
      "cell_type": "code",
      "execution_count": null,
      "metadata": {},
      "outputs": [],
      "source": [
        "# Karan\n",
        "def best_features_for_popularity():\n",
        "    '''This method takes the 3 playlists with the highest median popularity and finds which features are most correlated with popularity'''\n",
        "    # Generate a heatmap with popularity vs. all features after finding the 3 playlists with the highest median popularity\n",
        "    return None "
      ]
    },
    {
      "cell_type": "code",
      "execution_count": null,
      "metadata": {},
      "outputs": [],
      "source": [
        "# Karan\n",
        "def popularity_per_artist():\n",
        "    '''Find the playlists with only 1 artist and find the 3 with the most songs. Generate a heatmap comparing popularity vs. all features for these 3 playlists.'''\n",
        "    return None "
      ]
    }
  ],
  "metadata": {
    "colab": {
      "provenance": []
    },
    "kernelspec": {
      "display_name": "tf2",
      "language": "python",
      "name": "tf2"
    },
    "language_info": {
      "codemirror_mode": {
        "name": "ipython",
        "version": 3
      },
      "file_extension": ".py",
      "mimetype": "text/x-python",
      "name": "python",
      "nbconvert_exporter": "python",
      "pygments_lexer": "ipython3",
      "version": "3.7.16"
    }
  },
  "nbformat": 4,
  "nbformat_minor": 0
}
